{
 "cells": [
  {
   "cell_type": "code",
   "execution_count": 4,
   "metadata": {},
   "outputs": [
    {
     "name": "stderr",
     "output_type": "stream",
     "text": [
      "c:\\Users\\Administrator\\miniconda3\\Lib\\site-packages\\openpyxl\\styles\\stylesheet.py:226: UserWarning: Workbook contains no default style, apply openpyxl's default\n",
      "  warn(\"Workbook contains no default style, apply openpyxl's default\")\n"
     ]
    }
   ],
   "source": [
    "import smtplib, ssl\n",
    "import json\n",
    "import pandas as pd\n",
    "from template import html\n",
    "from template2 import textTemplate\n",
    "from template3 import textTemplate_2\n",
    "from template4 import textTemplate_4\n",
    "import time\n",
    "\n",
    "\n",
    "with open('../osvar/email.txt') as f:\n",
    "    a = f.read()\n",
    "email = json.loads(a)\n",
    "\n",
    "smtp_server = 'smtp.qiye.163.com'\n",
    "port = 465\n",
    "sender_email = email['name']\n",
    "#receiver_email = 'lzy2011@foxmail.com'\n",
    "password= email['code']\n",
    "\n",
    "from collections import Counter\n",
    "df = pd.read_excel('../osvar/hubspot-crm-exports-custom-view-2024-05-28.xlsx', index_col=0)\n"
   ]
  },
  {
   "cell_type": "markdown",
   "metadata": {},
   "source": [
    "Colin Email"
   ]
  },
  {
   "cell_type": "code",
   "execution_count": 28,
   "metadata": {},
   "outputs": [],
   "source": [
    "smtp_server = 'smtp.qiye.163.com'\n",
    "port = 465\n",
    "sender_email = email['name']\n",
    "#receiver_email = 'lzy2011@foxmail.com'\n",
    "password= email['code']"
   ]
  },
  {
   "cell_type": "markdown",
   "metadata": {},
   "source": [
    "Tony Email"
   ]
  },
  {
   "cell_type": "code",
   "execution_count": 13,
   "metadata": {},
   "outputs": [],
   "source": [
    "smtp_server = 'smtp.5starchemlab.com'\n",
    "port = 993\n",
    "sender_email = email['tony']\n",
    "#receiver_email = 'lzy2011@foxmail.com'\n",
    "password= email['tonycode']"
   ]
  },
  {
   "cell_type": "code",
   "execution_count": 29,
   "metadata": {},
   "outputs": [],
   "source": [
    "logic_operation = [type(i)== float for i in df['sales person']] #Pick NA from sales person\n",
    "email_list = df[logic_operation][df[logic_operation]['Email Group'] == 6]['Email']\n",
    "email_list.index = range(len(email_list))"
   ]
  },
  {
   "cell_type": "code",
   "execution_count": 5,
   "metadata": {},
   "outputs": [],
   "source": [
    "#Need to remove the header in the .eml file\n",
    "from email.mime.text import MIMEText\n",
    "from email.mime.multipart import MIMEMultipart\n",
    "from email.utils import make_msgid"
   ]
  },
  {
   "cell_type": "code",
   "execution_count": 31,
   "metadata": {},
   "outputs": [
    {
     "data": {
      "text/plain": [
       "'Hi Sir/Madam,\\n \\nWe are in peptide business since 2016. We can ship to the UK, EU and the USA.\\nHere is the drop shipping price and the USA stock list, if you need please let me know. \\n \\n\\nItem    Specification    Price\\nBPC157 5mg/vial    $ 4.50\\nCJC-1295 (DAC)  2mg/vial $ 10.00\\nCJC-1295 (with out DAC) 2mg/vial $  4.50\\nGHRP-2  5mg/vial $ 3.50\\nGHRP-6  5mg/vial $ 3.50\\nHCG 5000iu/vial $ 9.00\\nHGH (Pharm grade) 10iu/vial $ 10.00\\nHGH Frag (176-191) 2mg/vial $ 5.00\\nHGH Frag (176-191) 5mg/vial $ 10.00\\nHGH (GMP grade) 10iu/vial $ 8.00\\nIGF-1LR3 1mg/vial $ 30.00\\nMT-II (Melanotan II ) 10mg/vial $ 7.00\\nPT-141  (Bremelanotide)  10mg/vial $ 9.00\\nThymosin Beta 4 (TB500) 2mg/vial $ 5.00\\nThymosin Beta 4 (TB500) 5mg/vial $ 10.00\\nTirzepaptide 5mg/vial $ 25.00\\nTirzepaptide 10mg/vial $ 50.00\\nSemaglutide 5mg/vial $ 18.00\\nIGF-1LR3 1mg/vial $ 25.00\\n \\nNow we ship to the USA directly from China. Small package, high pass rate for the strict US customs. 6 days delivery.\\nTo EU we can ship through Germany, which is fast and secure.\\n \\nHave a nice day.\\n \\n_________________________\\nKindly regards,\\nColin\\nTelegram: Colin1010\\nHong Kong online-peptides Co.,Ltd\\n\\n '"
      ]
     },
     "execution_count": 31,
     "metadata": {},
     "output_type": "execute_result"
    }
   ],
   "source": [
    "textTemplate"
   ]
  },
  {
   "cell_type": "code",
   "execution_count": 32,
   "metadata": {},
   "outputs": [
    {
     "data": {
      "text/plain": [
       "30                  info@dheausa.com\n",
       "31         info@desuplementos.com.ar\n",
       "32                    info@biomol.de\n",
       "33           info@besthghforsale.com\n",
       "34         info@active-bioscience.de\n",
       "35           hygeneanabolic@zoho.com\n",
       "36    customersgomeisalabs@gmail.com\n",
       "37             cust@steroid-club.com\n",
       "38              contacto@synerlab.mx\n",
       "Name: Email, dtype: object"
      ]
     },
     "execution_count": 32,
     "metadata": {},
     "output_type": "execute_result"
    }
   ],
   "source": [
    "email_list[30:39]"
   ]
  },
  {
   "cell_type": "code",
   "execution_count": 33,
   "metadata": {},
   "outputs": [
    {
     "name": "stdout",
     "output_type": "stream",
     "text": [
      "0\n",
      "1\n",
      "2\n",
      "3\n"
     ]
    }
   ],
   "source": [
    "for i in range(len(email_list)):\n",
    "    if i <=3:\n",
    "        print(i)\n",
    "    else:\n",
    "        pass"
   ]
  },
  {
   "cell_type": "code",
   "execution_count": 34,
   "metadata": {},
   "outputs": [
    {
     "name": "stdout",
     "output_type": "stream",
     "text": [
      "Hi Sir/Madam,\n",
      "\n",
      "Our USA warehouse shipping is back, some hot peptides available in the USA warehouse.\n",
      "\n",
      "We are in peptide business since 2016. We have customers in the UK, USA, EU and AU etc.\n",
      "We can provide the drop shipping service in the USA, if interested please let me know you are interested in drop shipping or bulk service.\n",
      "\n",
      "Here is our USA warehouse 1 stock, welcome to inquiry\n",
      "\n",
      "USA New York stock (June-20-2024)\t\t\n",
      "Item\tSpecification\tQuantity\n",
      "HCG\t5000iu\t3000\n",
      "HGH Pharm(99%)\t10iu\t500\n",
      "HGH Pharm(99%)\t10iu\t300\n",
      "BPC-157\t5mg\t500\n",
      "TB-500\t5mg\t700\n",
      "Ipamorelin\t2mg\t440\n",
      "Trizepatide\t10mg\t250\n",
      "Trizepatide\t5mg\t12\n",
      "\n",
      " \n",
      "We can also ship to the USA directly from China in small package, we will reship the package if it is in the customs.\n",
      "To EU we can ship through Germany, which is fast and secure.\n",
      " \n",
      "Have a nice day.\n",
      " \n",
      "_________________________\n",
      "Kindly regards,\n",
      "Colin\n",
      "Telegram: Colin1010\n",
      "Hong Kong online-peptides Co.,Ltd\n",
      "\n",
      " \n"
     ]
    }
   ],
   "source": [
    "print(textTemplate_4)"
   ]
  },
  {
   "cell_type": "code",
   "execution_count": 35,
   "metadata": {},
   "outputs": [
    {
     "name": "stdout",
     "output_type": "stream",
     "text": [
      "21 info@super-nutrition.com\n",
      "22 info@steroide-kaufen.com\n",
      "23 info@roidstopaustralia.is\n",
      "24 info@redumbrellaresearch.com\n",
      "25 info@peptidesstore.com\n",
      "26 info@nortechlaboratories.com\n",
      "27 info@melanotanexpress.com\n",
      "28 info@landerlan.com.py\n",
      "29 info@iceprolab.com\n",
      "30 info@dheausa.com\n"
     ]
    }
   ],
   "source": [
    "for i in range(len(email_list)):\n",
    "    if i <= 30 and i > 20:\n",
    "        print(i,email_list[i])\n",
    "        message = MIMEMultipart(\"alternative\")\n",
    "        message[\"Subject\"] = \"Peptide manufacturer USA warehouse- CA and NY \"\n",
    "        message[\"From\"] = sender_email\n",
    "        message[\"To\"] = email_list[i]\n",
    "        message['Message-ID'] = make_msgid()\n",
    "        receiver_email = email_list[i]\n",
    "\n",
    "        #part1 = MIMEText(html, \"html\")\n",
    "        #part1 = MIMEText(textTemplate, \"plain\")\n",
    "        #part1 = MIMEText(textTemplate_2, \"plain\")\n",
    "        part1 = MIMEText(textTemplate_4, \"plain\")\n",
    "        message.attach(part1)\n",
    "        \n",
    "        context = ssl.create_default_context()\n",
    "        with smtplib.SMTP_SSL(smtp_server, port, context=context) as server:\n",
    "            server.login(sender_email, password)\n",
    "            server.sendmail(sender_email, receiver_email, message.as_string())\n",
    "            time.sleep(180)\n",
    "    else:\n",
    "        continue"
   ]
  },
  {
   "cell_type": "code",
   "execution_count": 14,
   "metadata": {},
   "outputs": [
    {
     "data": {
      "text/html": [
       "<div>\n",
       "<style scoped>\n",
       "    .dataframe tbody tr th:only-of-type {\n",
       "        vertical-align: middle;\n",
       "    }\n",
       "\n",
       "    .dataframe tbody tr th {\n",
       "        vertical-align: top;\n",
       "    }\n",
       "\n",
       "    .dataframe thead th {\n",
       "        text-align: right;\n",
       "    }\n",
       "</style>\n",
       "<table border=\"1\" class=\"dataframe\">\n",
       "  <thead>\n",
       "    <tr style=\"text-align: right;\">\n",
       "      <th></th>\n",
       "      <th>First Name</th>\n",
       "      <th>Last Name</th>\n",
       "      <th>Website URL</th>\n",
       "      <th>Email</th>\n",
       "      <th>sales person</th>\n",
       "      <th>remark</th>\n",
       "      <th>Country/Region</th>\n",
       "      <th>Last Activity Date</th>\n",
       "      <th>Lead Status</th>\n",
       "      <th>Create Date</th>\n",
       "      <th>Contact owner</th>\n",
       "      <th>Email Group</th>\n",
       "    </tr>\n",
       "    <tr>\n",
       "      <th>Record ID</th>\n",
       "      <th></th>\n",
       "      <th></th>\n",
       "      <th></th>\n",
       "      <th></th>\n",
       "      <th></th>\n",
       "      <th></th>\n",
       "      <th></th>\n",
       "      <th></th>\n",
       "      <th></th>\n",
       "      <th></th>\n",
       "      <th></th>\n",
       "      <th></th>\n",
       "    </tr>\n",
       "  </thead>\n",
       "  <tbody>\n",
       "    <tr>\n",
       "      <th>3907</th>\n",
       "      <td>NaN</td>\n",
       "      <td>NaN</td>\n",
       "      <td>NaN</td>\n",
       "      <td>ganabol@safe-mail.net</td>\n",
       "      <td>NaN</td>\n",
       "      <td>NaN</td>\n",
       "      <td>NaN</td>\n",
       "      <td>NaN</td>\n",
       "      <td>NaN</td>\n",
       "      <td>2023-07-17 11:53:00</td>\n",
       "      <td>NaN</td>\n",
       "      <td>0.0</td>\n",
       "    </tr>\n",
       "  </tbody>\n",
       "</table>\n",
       "</div>"
      ],
      "text/plain": [
       "          First Name Last Name Website URL                  Email  \\\n",
       "Record ID                                                           \n",
       "3907             NaN       NaN         NaN  ganabol@safe-mail.net   \n",
       "\n",
       "          sales person remark Country/Region  Last Activity Date Lead Status  \\\n",
       "Record ID                                                                      \n",
       "3907               NaN    NaN            NaN                 NaN         NaN   \n",
       "\n",
       "                  Create Date Contact owner  Email Group  \n",
       "Record ID                                                 \n",
       "3907      2023-07-17 11:53:00           NaN          0.0  "
      ]
     },
     "execution_count": 14,
     "metadata": {},
     "output_type": "execute_result"
    }
   ],
   "source": [
    "df[df['Email']== 'ganabol@safe-mail.net']"
   ]
  },
  {
   "cell_type": "code",
   "execution_count": null,
   "metadata": {},
   "outputs": [],
   "source": [
    "message = MIMEMultipart(\"alternative\")\n",
    "message[\"Subject\"] = \"Peptide manufacturer USA warehouse- CA and NY \"\n",
    "message[\"From\"] = sender_email\n",
    "message[\"To\"] = email_list[i]\n",
    "message['Message-ID'] = make_msgid()\n",
    "receiver_email = email_list[i]\n",
    "\n",
    "#part1 = MIMEText(html, \"html\")\n",
    "#part1 = MIMEText(textTemplate, \"plain\")\n",
    "#part1 = MIMEText(textTemplate_2, \"plain\")\n",
    "part1 = MIMEText(textTemplate_4, \"plain\")\n",
    "message.attach(part1)\n",
    "\n",
    "context = ssl.create_default_context()\n",
    "with smtplib.SMTP_SSL(smtp_server, port, context=context) as server:\n",
    "    server.login(sender_email, password)\n",
    "    server.sendmail(sender_email, receiver_email, message.as_string())"
   ]
  },
  {
   "cell_type": "code",
   "execution_count": 14,
   "metadata": {},
   "outputs": [
    {
     "ename": "SSLCertVerificationError",
     "evalue": "[SSL: CERTIFICATE_VERIFY_FAILED] certificate verify failed: Hostname mismatch, certificate is not valid for 'smtp.5starchemlab.com'. (_ssl.c:1000)",
     "output_type": "error",
     "traceback": [
      "\u001b[1;31m---------------------------------------------------------------------------\u001b[0m",
      "\u001b[1;31mSSLCertVerificationError\u001b[0m                  Traceback (most recent call last)",
      "Cell \u001b[1;32mIn[14], line 15\u001b[0m\n\u001b[0;32m     11\u001b[0m context \u001b[38;5;241m=\u001b[39m ssl\u001b[38;5;241m.\u001b[39mcreate_default_context()\n\u001b[0;32m     12\u001b[0m \u001b[38;5;124;03m\"\"\" context.check_hostname = False\u001b[39;00m\n\u001b[0;32m     13\u001b[0m \u001b[38;5;124;03mcontext.verify_mode = ssl.CERT_NONE \"\"\"\u001b[39;00m\n\u001b[1;32m---> 15\u001b[0m \u001b[38;5;28;01mwith\u001b[39;00m \u001b[43msmtplib\u001b[49m\u001b[38;5;241;43m.\u001b[39;49m\u001b[43mSMTP_SSL\u001b[49m\u001b[43m(\u001b[49m\u001b[43msmtp_server\u001b[49m\u001b[43m,\u001b[49m\u001b[43m \u001b[49m\u001b[43mport\u001b[49m\u001b[43m,\u001b[49m\u001b[43m \u001b[49m\u001b[43mcontext\u001b[49m\u001b[38;5;241;43m=\u001b[39;49m\u001b[43mcontext\u001b[49m\u001b[43m)\u001b[49m \u001b[38;5;28;01mas\u001b[39;00m server:\n\u001b[0;32m     16\u001b[0m     server\u001b[38;5;241m.\u001b[39mlogin(sender_email, password)\n\u001b[0;32m     17\u001b[0m     server\u001b[38;5;241m.\u001b[39msendmail(sender_email, receiver_email, message\u001b[38;5;241m.\u001b[39mas_string())\n",
      "File \u001b[1;32mc:\\Users\\Administrator\\miniconda3\\Lib\\smtplib.py:1022\u001b[0m, in \u001b[0;36mSMTP_SSL.__init__\u001b[1;34m(self, host, port, local_hostname, timeout, source_address, context)\u001b[0m\n\u001b[0;32m   1020\u001b[0m     context \u001b[38;5;241m=\u001b[39m ssl\u001b[38;5;241m.\u001b[39m_create_stdlib_context()\n\u001b[0;32m   1021\u001b[0m \u001b[38;5;28mself\u001b[39m\u001b[38;5;241m.\u001b[39mcontext \u001b[38;5;241m=\u001b[39m context\n\u001b[1;32m-> 1022\u001b[0m \u001b[43mSMTP\u001b[49m\u001b[38;5;241;43m.\u001b[39;49m\u001b[38;5;21;43m__init__\u001b[39;49m\u001b[43m(\u001b[49m\u001b[38;5;28;43mself\u001b[39;49m\u001b[43m,\u001b[49m\u001b[43m \u001b[49m\u001b[43mhost\u001b[49m\u001b[43m,\u001b[49m\u001b[43m \u001b[49m\u001b[43mport\u001b[49m\u001b[43m,\u001b[49m\u001b[43m \u001b[49m\u001b[43mlocal_hostname\u001b[49m\u001b[43m,\u001b[49m\u001b[43m \u001b[49m\u001b[43mtimeout\u001b[49m\u001b[43m,\u001b[49m\n\u001b[0;32m   1023\u001b[0m \u001b[43m              \u001b[49m\u001b[43msource_address\u001b[49m\u001b[43m)\u001b[49m\n",
      "File \u001b[1;32mc:\\Users\\Administrator\\miniconda3\\Lib\\smtplib.py:255\u001b[0m, in \u001b[0;36mSMTP.__init__\u001b[1;34m(self, host, port, local_hostname, timeout, source_address)\u001b[0m\n\u001b[0;32m    252\u001b[0m \u001b[38;5;28mself\u001b[39m\u001b[38;5;241m.\u001b[39m_auth_challenge_count \u001b[38;5;241m=\u001b[39m \u001b[38;5;241m0\u001b[39m\n\u001b[0;32m    254\u001b[0m \u001b[38;5;28;01mif\u001b[39;00m host:\n\u001b[1;32m--> 255\u001b[0m     (code, msg) \u001b[38;5;241m=\u001b[39m \u001b[38;5;28;43mself\u001b[39;49m\u001b[38;5;241;43m.\u001b[39;49m\u001b[43mconnect\u001b[49m\u001b[43m(\u001b[49m\u001b[43mhost\u001b[49m\u001b[43m,\u001b[49m\u001b[43m \u001b[49m\u001b[43mport\u001b[49m\u001b[43m)\u001b[49m\n\u001b[0;32m    256\u001b[0m     \u001b[38;5;28;01mif\u001b[39;00m code \u001b[38;5;241m!=\u001b[39m \u001b[38;5;241m220\u001b[39m:\n\u001b[0;32m    257\u001b[0m         \u001b[38;5;28mself\u001b[39m\u001b[38;5;241m.\u001b[39mclose()\n",
      "File \u001b[1;32mc:\\Users\\Administrator\\miniconda3\\Lib\\smtplib.py:341\u001b[0m, in \u001b[0;36mSMTP.connect\u001b[1;34m(self, host, port, source_address)\u001b[0m\n\u001b[0;32m    339\u001b[0m     port \u001b[38;5;241m=\u001b[39m \u001b[38;5;28mself\u001b[39m\u001b[38;5;241m.\u001b[39mdefault_port\n\u001b[0;32m    340\u001b[0m sys\u001b[38;5;241m.\u001b[39maudit(\u001b[38;5;124m\"\u001b[39m\u001b[38;5;124msmtplib.connect\u001b[39m\u001b[38;5;124m\"\u001b[39m, \u001b[38;5;28mself\u001b[39m, host, port)\n\u001b[1;32m--> 341\u001b[0m \u001b[38;5;28mself\u001b[39m\u001b[38;5;241m.\u001b[39msock \u001b[38;5;241m=\u001b[39m \u001b[38;5;28;43mself\u001b[39;49m\u001b[38;5;241;43m.\u001b[39;49m\u001b[43m_get_socket\u001b[49m\u001b[43m(\u001b[49m\u001b[43mhost\u001b[49m\u001b[43m,\u001b[49m\u001b[43m \u001b[49m\u001b[43mport\u001b[49m\u001b[43m,\u001b[49m\u001b[43m \u001b[49m\u001b[38;5;28;43mself\u001b[39;49m\u001b[38;5;241;43m.\u001b[39;49m\u001b[43mtimeout\u001b[49m\u001b[43m)\u001b[49m\n\u001b[0;32m    342\u001b[0m \u001b[38;5;28mself\u001b[39m\u001b[38;5;241m.\u001b[39mfile \u001b[38;5;241m=\u001b[39m \u001b[38;5;28;01mNone\u001b[39;00m\n\u001b[0;32m    343\u001b[0m (code, msg) \u001b[38;5;241m=\u001b[39m \u001b[38;5;28mself\u001b[39m\u001b[38;5;241m.\u001b[39mgetreply()\n",
      "File \u001b[1;32mc:\\Users\\Administrator\\miniconda3\\Lib\\smtplib.py:1029\u001b[0m, in \u001b[0;36mSMTP_SSL._get_socket\u001b[1;34m(self, host, port, timeout)\u001b[0m\n\u001b[0;32m   1027\u001b[0m     \u001b[38;5;28mself\u001b[39m\u001b[38;5;241m.\u001b[39m_print_debug(\u001b[38;5;124m'\u001b[39m\u001b[38;5;124mconnect:\u001b[39m\u001b[38;5;124m'\u001b[39m, (host, port))\n\u001b[0;32m   1028\u001b[0m new_socket \u001b[38;5;241m=\u001b[39m \u001b[38;5;28msuper\u001b[39m()\u001b[38;5;241m.\u001b[39m_get_socket(host, port, timeout)\n\u001b[1;32m-> 1029\u001b[0m new_socket \u001b[38;5;241m=\u001b[39m \u001b[38;5;28;43mself\u001b[39;49m\u001b[38;5;241;43m.\u001b[39;49m\u001b[43mcontext\u001b[49m\u001b[38;5;241;43m.\u001b[39;49m\u001b[43mwrap_socket\u001b[49m\u001b[43m(\u001b[49m\u001b[43mnew_socket\u001b[49m\u001b[43m,\u001b[49m\n\u001b[0;32m   1030\u001b[0m \u001b[43m                                      \u001b[49m\u001b[43mserver_hostname\u001b[49m\u001b[38;5;241;43m=\u001b[39;49m\u001b[38;5;28;43mself\u001b[39;49m\u001b[38;5;241;43m.\u001b[39;49m\u001b[43m_host\u001b[49m\u001b[43m)\u001b[49m\n\u001b[0;32m   1031\u001b[0m \u001b[38;5;28;01mreturn\u001b[39;00m new_socket\n",
      "File \u001b[1;32mc:\\Users\\Administrator\\miniconda3\\Lib\\ssl.py:455\u001b[0m, in \u001b[0;36mSSLContext.wrap_socket\u001b[1;34m(self, sock, server_side, do_handshake_on_connect, suppress_ragged_eofs, server_hostname, session)\u001b[0m\n\u001b[0;32m    449\u001b[0m \u001b[38;5;28;01mdef\u001b[39;00m \u001b[38;5;21mwrap_socket\u001b[39m(\u001b[38;5;28mself\u001b[39m, sock, server_side\u001b[38;5;241m=\u001b[39m\u001b[38;5;28;01mFalse\u001b[39;00m,\n\u001b[0;32m    450\u001b[0m                 do_handshake_on_connect\u001b[38;5;241m=\u001b[39m\u001b[38;5;28;01mTrue\u001b[39;00m,\n\u001b[0;32m    451\u001b[0m                 suppress_ragged_eofs\u001b[38;5;241m=\u001b[39m\u001b[38;5;28;01mTrue\u001b[39;00m,\n\u001b[0;32m    452\u001b[0m                 server_hostname\u001b[38;5;241m=\u001b[39m\u001b[38;5;28;01mNone\u001b[39;00m, session\u001b[38;5;241m=\u001b[39m\u001b[38;5;28;01mNone\u001b[39;00m):\n\u001b[0;32m    453\u001b[0m     \u001b[38;5;66;03m# SSLSocket class handles server_hostname encoding before it calls\u001b[39;00m\n\u001b[0;32m    454\u001b[0m     \u001b[38;5;66;03m# ctx._wrap_socket()\u001b[39;00m\n\u001b[1;32m--> 455\u001b[0m     \u001b[38;5;28;01mreturn\u001b[39;00m \u001b[38;5;28;43mself\u001b[39;49m\u001b[38;5;241;43m.\u001b[39;49m\u001b[43msslsocket_class\u001b[49m\u001b[38;5;241;43m.\u001b[39;49m\u001b[43m_create\u001b[49m\u001b[43m(\u001b[49m\n\u001b[0;32m    456\u001b[0m \u001b[43m        \u001b[49m\u001b[43msock\u001b[49m\u001b[38;5;241;43m=\u001b[39;49m\u001b[43msock\u001b[49m\u001b[43m,\u001b[49m\n\u001b[0;32m    457\u001b[0m \u001b[43m        \u001b[49m\u001b[43mserver_side\u001b[49m\u001b[38;5;241;43m=\u001b[39;49m\u001b[43mserver_side\u001b[49m\u001b[43m,\u001b[49m\n\u001b[0;32m    458\u001b[0m \u001b[43m        \u001b[49m\u001b[43mdo_handshake_on_connect\u001b[49m\u001b[38;5;241;43m=\u001b[39;49m\u001b[43mdo_handshake_on_connect\u001b[49m\u001b[43m,\u001b[49m\n\u001b[0;32m    459\u001b[0m \u001b[43m        \u001b[49m\u001b[43msuppress_ragged_eofs\u001b[49m\u001b[38;5;241;43m=\u001b[39;49m\u001b[43msuppress_ragged_eofs\u001b[49m\u001b[43m,\u001b[49m\n\u001b[0;32m    460\u001b[0m \u001b[43m        \u001b[49m\u001b[43mserver_hostname\u001b[49m\u001b[38;5;241;43m=\u001b[39;49m\u001b[43mserver_hostname\u001b[49m\u001b[43m,\u001b[49m\n\u001b[0;32m    461\u001b[0m \u001b[43m        \u001b[49m\u001b[43mcontext\u001b[49m\u001b[38;5;241;43m=\u001b[39;49m\u001b[38;5;28;43mself\u001b[39;49m\u001b[43m,\u001b[49m\n\u001b[0;32m    462\u001b[0m \u001b[43m        \u001b[49m\u001b[43msession\u001b[49m\u001b[38;5;241;43m=\u001b[39;49m\u001b[43msession\u001b[49m\n\u001b[0;32m    463\u001b[0m \u001b[43m    \u001b[49m\u001b[43m)\u001b[49m\n",
      "File \u001b[1;32mc:\\Users\\Administrator\\miniconda3\\Lib\\ssl.py:1046\u001b[0m, in \u001b[0;36mSSLSocket._create\u001b[1;34m(cls, sock, server_side, do_handshake_on_connect, suppress_ragged_eofs, server_hostname, context, session)\u001b[0m\n\u001b[0;32m   1043\u001b[0m         \u001b[38;5;28;01mif\u001b[39;00m timeout \u001b[38;5;241m==\u001b[39m \u001b[38;5;241m0.0\u001b[39m:\n\u001b[0;32m   1044\u001b[0m             \u001b[38;5;66;03m# non-blocking\u001b[39;00m\n\u001b[0;32m   1045\u001b[0m             \u001b[38;5;28;01mraise\u001b[39;00m \u001b[38;5;167;01mValueError\u001b[39;00m(\u001b[38;5;124m\"\u001b[39m\u001b[38;5;124mdo_handshake_on_connect should not be specified for non-blocking sockets\u001b[39m\u001b[38;5;124m\"\u001b[39m)\n\u001b[1;32m-> 1046\u001b[0m         \u001b[38;5;28;43mself\u001b[39;49m\u001b[38;5;241;43m.\u001b[39;49m\u001b[43mdo_handshake\u001b[49m\u001b[43m(\u001b[49m\u001b[43m)\u001b[49m\n\u001b[0;32m   1047\u001b[0m \u001b[38;5;28;01mexcept\u001b[39;00m (\u001b[38;5;167;01mOSError\u001b[39;00m, \u001b[38;5;167;01mValueError\u001b[39;00m):\n\u001b[0;32m   1048\u001b[0m     \u001b[38;5;28mself\u001b[39m\u001b[38;5;241m.\u001b[39mclose()\n",
      "File \u001b[1;32mc:\\Users\\Administrator\\miniconda3\\Lib\\ssl.py:1321\u001b[0m, in \u001b[0;36mSSLSocket.do_handshake\u001b[1;34m(self, block)\u001b[0m\n\u001b[0;32m   1319\u001b[0m     \u001b[38;5;28;01mif\u001b[39;00m timeout \u001b[38;5;241m==\u001b[39m \u001b[38;5;241m0.0\u001b[39m \u001b[38;5;129;01mand\u001b[39;00m block:\n\u001b[0;32m   1320\u001b[0m         \u001b[38;5;28mself\u001b[39m\u001b[38;5;241m.\u001b[39msettimeout(\u001b[38;5;28;01mNone\u001b[39;00m)\n\u001b[1;32m-> 1321\u001b[0m     \u001b[38;5;28;43mself\u001b[39;49m\u001b[38;5;241;43m.\u001b[39;49m\u001b[43m_sslobj\u001b[49m\u001b[38;5;241;43m.\u001b[39;49m\u001b[43mdo_handshake\u001b[49m\u001b[43m(\u001b[49m\u001b[43m)\u001b[49m\n\u001b[0;32m   1322\u001b[0m \u001b[38;5;28;01mfinally\u001b[39;00m:\n\u001b[0;32m   1323\u001b[0m     \u001b[38;5;28mself\u001b[39m\u001b[38;5;241m.\u001b[39msettimeout(timeout)\n",
      "\u001b[1;31mSSLCertVerificationError\u001b[0m: [SSL: CERTIFICATE_VERIFY_FAILED] certificate verify failed: Hostname mismatch, certificate is not valid for 'smtp.5starchemlab.com'. (_ssl.c:1000)"
     ]
    }
   ],
   "source": [
    "message = MIMEMultipart(\"alternative\")\n",
    "message[\"Subject\"] = \"Online peptides -- direct shipping to USA.\"\n",
    "message[\"From\"] = sender_email\n",
    "message[\"To\"] = email\n",
    "message['Message-ID'] = make_msgid()\n",
    "receiver_email = 'lzy2011@foxmail.com'\n",
    "\n",
    "part1 = MIMEText(textTemplate_4, \"plain\")\n",
    "message.attach(part1)\n",
    "\n",
    "context = ssl.create_default_context()\n",
    "\"\"\" context.check_hostname = False\n",
    "context.verify_mode = ssl.CERT_NONE \"\"\"\n",
    "\n",
    "with smtplib.SMTP_SSL(smtp_server, port, context=context) as server:\n",
    "    server.login(sender_email, password)\n",
    "    server.sendmail(sender_email, receiver_email, message.as_string())"
   ]
  },
  {
   "cell_type": "code",
   "execution_count": 10,
   "metadata": {},
   "outputs": [
    {
     "name": "stdout",
     "output_type": "stream",
     "text": [
      "info@erikas.cc\n"
     ]
    }
   ],
   "source": [
    "for i in email_list[55:]:\n",
    "    print(i)\n",
    "    message = MIMEMultipart(\"alternative\")\n",
    "    message[\"Subject\"] = \"Online peptides -- direct shipping to USA.\"\n",
    "    message[\"From\"] = sender_email\n",
    "    message[\"To\"] = i\n",
    "    message['Message-ID'] = make_msgid()\n",
    "    receiver_email = i\n",
    "\n",
    "    part1 = MIMEText(html, \"html\")\n",
    "    message.attach(part1)\n",
    "    \n",
    "    context = ssl.create_default_context()\n",
    "    with smtplib.SMTP_SSL(smtp_server, port, context=context) as server:\n",
    "        server.login(sender_email, password)\n",
    "        server.sendmail(sender_email, receiver_email, message.as_string())\n",
    "        time.sleep(180)"
   ]
  },
  {
   "cell_type": "code",
   "execution_count": null,
   "metadata": {},
   "outputs": [],
   "source": []
  },
  {
   "cell_type": "code",
   "execution_count": 11,
   "metadata": {},
   "outputs": [],
   "source": [
    "part1 = MIMEText(html, \"html\")\n",
    "#part1 = MIMEText(text_str, \"text\")\n",
    "message.attach(part1)"
   ]
  },
  {
   "cell_type": "code",
   "execution_count": 12,
   "metadata": {},
   "outputs": [],
   "source": [
    "# Create secure connection with server and send email\n",
    "context = ssl.create_default_context()\n",
    "with smtplib.SMTP_SSL(smtp_server, port, context=context) as server:\n",
    "    server.login(sender_email, password)\n",
    "    server.sendmail(\n",
    "        sender_email, receiver_email, message.as_string()\n",
    "    )"
   ]
  },
  {
   "cell_type": "markdown",
   "metadata": {},
   "source": [
    "context = ssl.create_default_context()\n",
    "with smtplib.SMTP_SSL(, 465, context=context) as server:\n",
    "    server.login(sender_email, password)\n",
    "    server.sendmail(\n",
    "        sender_email, receiver_email, message.as_string()\n",
    "    )"
   ]
  },
  {
   "cell_type": "code",
   "execution_count": 13,
   "metadata": {},
   "outputs": [],
   "source": [
    "message = \"\"\"\\\n",
    "Subject: Hi there\n",
    "\n",
    "This message is a test\"\"\""
   ]
  },
  {
   "cell_type": "code",
   "execution_count": 14,
   "metadata": {},
   "outputs": [],
   "source": [
    "# Create a secure SSL context\n",
    "context = ssl.create_default_context()\n",
    "\n",
    "with smtplib.SMTP_SSL(smtp_server, port, context=context) as server:\n",
    "    server.login(sender_email, password)\n",
    "    server.sendmail(sender_email, receiver_email, message)"
   ]
  },
  {
   "cell_type": "code",
   "execution_count": null,
   "metadata": {},
   "outputs": [],
   "source": []
  }
 ],
 "metadata": {
  "kernelspec": {
   "display_name": "Python 3",
   "language": "python",
   "name": "python3"
  },
  "language_info": {
   "codemirror_mode": {
    "name": "ipython",
    "version": 3
   },
   "file_extension": ".py",
   "mimetype": "text/x-python",
   "name": "python",
   "nbconvert_exporter": "python",
   "pygments_lexer": "ipython3",
   "version": "3.12.1"
  }
 },
 "nbformat": 4,
 "nbformat_minor": 2
}
