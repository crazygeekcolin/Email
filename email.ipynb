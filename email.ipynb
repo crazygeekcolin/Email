{
 "cells": [
  {
   "cell_type": "code",
   "execution_count": 1,
   "metadata": {},
   "outputs": [
    {
     "name": "stderr",
     "output_type": "stream",
     "text": [
      "c:\\Users\\Administrator\\miniconda3\\Lib\\site-packages\\openpyxl\\styles\\stylesheet.py:226: UserWarning: Workbook contains no default style, apply openpyxl's default\n",
      "  warn(\"Workbook contains no default style, apply openpyxl's default\")\n"
     ]
    }
   ],
   "source": [
    "import smtplib, ssl\n",
    "import json\n",
    "import pandas as pd\n",
    "from template import html\n",
    "from template2 import textTemplate\n",
    "from template3 import textTemplate_2\n",
    "import time\n",
    "\n",
    "\n",
    "with open('../osvar/email.txt') as f:\n",
    "    a = f.read()\n",
    "email = json.loads(a)\n",
    "\n",
    "smtp_server = 'smtp.qiye.163.com'\n",
    "port = 465\n",
    "sender_email = email['name']\n",
    "#receiver_email = 'lzy2011@foxmail.com'\n",
    "password= email['code']\n",
    "\n",
    "from collections import Counter\n",
    "df = pd.read_excel('../osvar/hubspot-crm-exports-custom-view-2024-05-08.xlsx', index_col=0)\n"
   ]
  },
  {
   "cell_type": "code",
   "execution_count": 2,
   "metadata": {},
   "outputs": [],
   "source": [
    "logic_operation = [type(i)== float for i in df['sales person']] #Pick NA from sales person\n",
    "email_list = df[logic_operation][df[logic_operation]['Email Group'] == 3]['Email']\n",
    "email_list.index = range(len(email_list))"
   ]
  },
  {
   "cell_type": "code",
   "execution_count": 3,
   "metadata": {},
   "outputs": [],
   "source": [
    "#Need to remove the header in the .eml file\n",
    "from email.mime.text import MIMEText\n",
    "from email.mime.multipart import MIMEMultipart\n",
    "from email.utils import make_msgid"
   ]
  },
  {
   "cell_type": "code",
   "execution_count": 4,
   "metadata": {},
   "outputs": [
    {
     "data": {
      "text/plain": [
       "'Hi Sir/Madam,\\n \\nWe are in peptide business since 2016. We can ship to the UK, EU and the USA.\\nHere is the drop shipping price and the USA stock list, if you need please let me know. \\n \\n\\nItem    Specification    Price\\nBPC157 5mg/vial    $ 4.50\\nCJC-1295 (DAC)  2mg/vial $ 10.00\\nCJC-1295 (with out DAC) 2mg/vial $  4.50\\nGHRP-2  5mg/vial $ 3.50\\nGHRP-6  5mg/vial $ 3.50\\nHCG 5000iu/vial $ 9.00\\nHGH (Pharm grade) 10iu/vial $ 10.00\\nHGH Frag (176-191) 2mg/vial $ 5.00\\nHGH Frag (176-191) 5mg/vial $ 10.00\\nHGH (GMP grade) 10iu/vial $ 8.00\\nIGF-1LR3 1mg/vial $ 30.00\\nMT-II (Melanotan II ) 10mg/vial $ 7.00\\nPT-141  (Bremelanotide)  10mg/vial $ 9.00\\nThymosin Beta 4 (TB500) 2mg/vial $ 5.00\\nThymosin Beta 4 (TB500) 5mg/vial $ 10.00\\nTirzepaptide 5mg/vial $ 25.00\\nTirzepaptide 10mg/vial $ 50.00\\nSemaglutide 5mg/vial $ 18.00\\nIGF-1LR3 1mg/vial $ 25.00\\n \\nNow we ship to the USA directly from China. Small package, high pass rate for the strict US customs. 6 days delivery.\\nTo EU we can ship through Germany, which is fast and secure.\\n \\nHave a nice day.\\n \\n_________________________\\nKindly regards,\\nColin\\nTelegram: Colin1010\\nHong Kong online-peptides Co.,Ltd\\n\\n '"
      ]
     },
     "execution_count": 4,
     "metadata": {},
     "output_type": "execute_result"
    }
   ],
   "source": [
    "textTemplate"
   ]
  },
  {
   "cell_type": "code",
   "execution_count": 5,
   "metadata": {},
   "outputs": [
    {
     "data": {
      "text/plain": [
       "30       dgear@protonmail.com\n",
       "31    shoppharmacom@gmail.com\n",
       "32          info@deuschem.com\n",
       "Name: Email, dtype: object"
      ]
     },
     "execution_count": 5,
     "metadata": {},
     "output_type": "execute_result"
    }
   ],
   "source": [
    "email_list[30:33]"
   ]
  },
  {
   "cell_type": "code",
   "execution_count": 6,
   "metadata": {},
   "outputs": [
    {
     "name": "stdout",
     "output_type": "stream",
     "text": [
      "0\n",
      "1\n",
      "2\n",
      "3\n"
     ]
    }
   ],
   "source": [
    "for i in range(len(email_list)):\n",
    "    if i <=3:\n",
    "        print(i)\n",
    "    else:\n",
    "        pass"
   ]
  },
  {
   "cell_type": "code",
   "execution_count": 7,
   "metadata": {},
   "outputs": [
    {
     "name": "stdout",
     "output_type": "stream",
     "text": [
      "42 gandalf101010@protonmail.com\n",
      "43 info@power-anabolics.com\n",
      "44 admin@muscle-depot.info\n",
      "45 contact@primetrope.is\n",
      "46 mosaicman@protonmail.com\n",
      "47 admin@hilmabiocare.io\n",
      "48 hghdaddy@protonmail.com\n",
      "49 ukbestgear@protonmail.com\n",
      "50 store@steroids-power24.com\n",
      "51 massivepumps@gmail.com\n",
      "52 queenzland@protonmail.com\n",
      "53 wolfroids@protonmail.com\n",
      "54 admin@quantropin.com\n",
      "55 gear4gym@gmail.com\n",
      "56 infopeptidoscolombia@gmail.com\n",
      "57 careteam@americanresearch.net\n",
      "58 support@gentlemanpeptides.com\n",
      "59 support@ibspot.com\n",
      "60 podpitka.com@mail.ru\n",
      "61 info@patriotpeptides.com\n",
      "62 info@pharmalabglobal.com\n",
      "63 info@highgradelabs.store\n",
      "64 sales@bouldersforshoulders.vip\n",
      "65 info@balkanpharm.co\n",
      "66 support@origincompounds.com\n",
      "67 cs@modernaminos.com\n"
     ]
    }
   ],
   "source": [
    "for i in range(len(email_list)):\n",
    "    if i <= 100 and i > 41:\n",
    "        print(i,email_list[i])\n",
    "        message = MIMEMultipart(\"alternative\")\n",
    "        message[\"Subject\"] = \"International peptide shipping to the USA-- Online Peptides\"\n",
    "        message[\"From\"] = sender_email\n",
    "        message[\"To\"] = email_list[i]\n",
    "        message['Message-ID'] = make_msgid()\n",
    "        receiver_email = email_list[i]\n",
    "\n",
    "        #part1 = MIMEText(html, \"html\")\n",
    "        part1 = MIMEText(textTemplate, \"plain\")\n",
    "        #part1 = MIMEText(textTemplate_2, \"plain\")\n",
    "        message.attach(part1)\n",
    "        \n",
    "        context = ssl.create_default_context()\n",
    "        with smtplib.SMTP_SSL(smtp_server, port, context=context) as server:\n",
    "            server.login(sender_email, password)\n",
    "            server.sendmail(sender_email, receiver_email, message.as_string())\n",
    "            time.sleep(180)\n",
    "    else:\n",
    "        continue"
   ]
  },
  {
   "cell_type": "code",
   "execution_count": 9,
   "metadata": {},
   "outputs": [
    {
     "data": {
      "text/html": [
       "<div>\n",
       "<style scoped>\n",
       "    .dataframe tbody tr th:only-of-type {\n",
       "        vertical-align: middle;\n",
       "    }\n",
       "\n",
       "    .dataframe tbody tr th {\n",
       "        vertical-align: top;\n",
       "    }\n",
       "\n",
       "    .dataframe thead th {\n",
       "        text-align: right;\n",
       "    }\n",
       "</style>\n",
       "<table border=\"1\" class=\"dataframe\">\n",
       "  <thead>\n",
       "    <tr style=\"text-align: right;\">\n",
       "      <th></th>\n",
       "      <th>First Name</th>\n",
       "      <th>Last Name</th>\n",
       "      <th>Website URL</th>\n",
       "      <th>Email</th>\n",
       "      <th>sales person</th>\n",
       "      <th>remark</th>\n",
       "      <th>Country/Region</th>\n",
       "      <th>Last Activity Date</th>\n",
       "      <th>Lead Status</th>\n",
       "      <th>Create Date</th>\n",
       "      <th>Contact owner</th>\n",
       "      <th>Email Group</th>\n",
       "      <th>Additional email addresses</th>\n",
       "    </tr>\n",
       "    <tr>\n",
       "      <th>Record ID</th>\n",
       "      <th></th>\n",
       "      <th></th>\n",
       "      <th></th>\n",
       "      <th></th>\n",
       "      <th></th>\n",
       "      <th></th>\n",
       "      <th></th>\n",
       "      <th></th>\n",
       "      <th></th>\n",
       "      <th></th>\n",
       "      <th></th>\n",
       "      <th></th>\n",
       "      <th></th>\n",
       "    </tr>\n",
       "  </thead>\n",
       "  <tbody>\n",
       "    <tr>\n",
       "      <th>3907</th>\n",
       "      <td>NaN</td>\n",
       "      <td>NaN</td>\n",
       "      <td>NaN</td>\n",
       "      <td>ganabol@safe-mail.net</td>\n",
       "      <td>NaN</td>\n",
       "      <td>NaN</td>\n",
       "      <td>NaN</td>\n",
       "      <td>NaN</td>\n",
       "      <td>NaN</td>\n",
       "      <td>2023-07-17 11:53:00</td>\n",
       "      <td>NaN</td>\n",
       "      <td>7.0</td>\n",
       "      <td>NaN</td>\n",
       "    </tr>\n",
       "  </tbody>\n",
       "</table>\n",
       "</div>"
      ],
      "text/plain": [
       "          First Name Last Name Website URL                  Email  \\\n",
       "Record ID                                                           \n",
       "3907             NaN       NaN         NaN  ganabol@safe-mail.net   \n",
       "\n",
       "          sales person remark Country/Region  Last Activity Date Lead Status  \\\n",
       "Record ID                                                                      \n",
       "3907               NaN    NaN            NaN                 NaN         NaN   \n",
       "\n",
       "                  Create Date Contact owner  Email Group  \\\n",
       "Record ID                                                  \n",
       "3907      2023-07-17 11:53:00           NaN          7.0   \n",
       "\n",
       "           Additional email addresses  \n",
       "Record ID                              \n",
       "3907                              NaN  "
      ]
     },
     "execution_count": 9,
     "metadata": {},
     "output_type": "execute_result"
    }
   ],
   "source": [
    "df[df['Email']== 'ganabol@safe-mail.net']"
   ]
  },
  {
   "cell_type": "code",
   "execution_count": 21,
   "metadata": {},
   "outputs": [],
   "source": [
    "message = MIMEMultipart(\"alternative\")\n",
    "message[\"Subject\"] = \"Online peptides -- direct shipping to USA.\"\n",
    "message[\"From\"] = sender_email\n",
    "message[\"To\"] = 'lzy2011@foxmail.com'\n",
    "message['Message-ID'] = make_msgid()\n",
    "receiver_email = 'lzy2011@foxmail.com'\n",
    "\n",
    "part1 = MIMEText(textTemplate, \"plain\")\n",
    "message.attach(part1)\n",
    "\n",
    "context = ssl.create_default_context()\n",
    "with smtplib.SMTP_SSL(smtp_server, port, context=context) as server:\n",
    "    server.login(sender_email, password)\n",
    "    server.sendmail(sender_email, receiver_email, message.as_string())"
   ]
  },
  {
   "cell_type": "code",
   "execution_count": 10,
   "metadata": {},
   "outputs": [
    {
     "name": "stdout",
     "output_type": "stream",
     "text": [
      "gear4gym@gmail.com\n"
     ]
    },
    {
     "ename": "SMTPDataError",
     "evalue": "(550, b'5.7.0 DT:SPM .For more information, please visit https://feedback.qiye.163.com/static/feedback/#/bounce/ABFPV3JUfFd4WFxacUp8IgYGHjVseVVwO08WXUEiSAxYHRVb')",
     "output_type": "error",
     "traceback": [
      "\u001b[1;31m---------------------------------------------------------------------------\u001b[0m",
      "\u001b[1;31mSMTPDataError\u001b[0m                             Traceback (most recent call last)",
      "Cell \u001b[1;32mIn[10], line 16\u001b[0m\n\u001b[0;32m     14\u001b[0m \u001b[38;5;28;01mwith\u001b[39;00m smtplib\u001b[38;5;241m.\u001b[39mSMTP_SSL(smtp_server, port, context\u001b[38;5;241m=\u001b[39mcontext) \u001b[38;5;28;01mas\u001b[39;00m server:\n\u001b[0;32m     15\u001b[0m     server\u001b[38;5;241m.\u001b[39mlogin(sender_email, password)\n\u001b[1;32m---> 16\u001b[0m     \u001b[43mserver\u001b[49m\u001b[38;5;241;43m.\u001b[39;49m\u001b[43msendmail\u001b[49m\u001b[43m(\u001b[49m\u001b[43msender_email\u001b[49m\u001b[43m,\u001b[49m\u001b[43m \u001b[49m\u001b[43mreceiver_email\u001b[49m\u001b[43m,\u001b[49m\u001b[43m \u001b[49m\u001b[43mmessage\u001b[49m\u001b[38;5;241;43m.\u001b[39;49m\u001b[43mas_string\u001b[49m\u001b[43m(\u001b[49m\u001b[43m)\u001b[49m\u001b[43m)\u001b[49m\n\u001b[0;32m     17\u001b[0m     time\u001b[38;5;241m.\u001b[39msleep(\u001b[38;5;241m180\u001b[39m)\n",
      "File \u001b[1;32mc:\\Users\\Administrator\\miniconda3\\Lib\\smtplib.py:897\u001b[0m, in \u001b[0;36mSMTP.sendmail\u001b[1;34m(self, from_addr, to_addrs, msg, mail_options, rcpt_options)\u001b[0m\n\u001b[0;32m    895\u001b[0m     \u001b[38;5;28;01melse\u001b[39;00m:\n\u001b[0;32m    896\u001b[0m         \u001b[38;5;28mself\u001b[39m\u001b[38;5;241m.\u001b[39m_rset()\n\u001b[1;32m--> 897\u001b[0m     \u001b[38;5;28;01mraise\u001b[39;00m SMTPDataError(code, resp)\n\u001b[0;32m    898\u001b[0m \u001b[38;5;66;03m#if we got here then somebody got our mail\u001b[39;00m\n\u001b[0;32m    899\u001b[0m \u001b[38;5;28;01mreturn\u001b[39;00m senderrs\n",
      "\u001b[1;31mSMTPDataError\u001b[0m: (550, b'5.7.0 DT:SPM .For more information, please visit https://feedback.qiye.163.com/static/feedback/#/bounce/ABFPV3JUfFd4WFxacUp8IgYGHjVseVVwO08WXUEiSAxYHRVb')"
     ]
    }
   ],
   "source": [
    "for i in email_list[55:]:\n",
    "    print(i)\n",
    "    message = MIMEMultipart(\"alternative\")\n",
    "    message[\"Subject\"] = \"Online peptides -- direct shipping to USA.\"\n",
    "    message[\"From\"] = sender_email\n",
    "    message[\"To\"] = i\n",
    "    message['Message-ID'] = make_msgid()\n",
    "    receiver_email = i\n",
    "\n",
    "    part1 = MIMEText(html, \"html\")\n",
    "    message.attach(part1)\n",
    "    \n",
    "    context = ssl.create_default_context()\n",
    "    with smtplib.SMTP_SSL(smtp_server, port, context=context) as server:\n",
    "        server.login(sender_email, password)\n",
    "        server.sendmail(sender_email, receiver_email, message.as_string())\n",
    "        time.sleep(180)"
   ]
  },
  {
   "cell_type": "code",
   "execution_count": null,
   "metadata": {},
   "outputs": [],
   "source": []
  },
  {
   "cell_type": "code",
   "execution_count": 4,
   "metadata": {},
   "outputs": [],
   "source": [
    "part1 = MIMEText(html, \"html\")\n",
    "#part1 = MIMEText(text_str, \"text\")\n",
    "message.attach(part1)"
   ]
  },
  {
   "cell_type": "code",
   "execution_count": 5,
   "metadata": {},
   "outputs": [],
   "source": [
    "# Create secure connection with server and send email\n",
    "context = ssl.create_default_context()\n",
    "with smtplib.SMTP_SSL(smtp_server, port, context=context) as server:\n",
    "    server.login(sender_email, password)\n",
    "    server.sendmail(\n",
    "        sender_email, receiver_email, message.as_string()\n",
    "    )"
   ]
  },
  {
   "cell_type": "markdown",
   "metadata": {},
   "source": [
    "context = ssl.create_default_context()\n",
    "with smtplib.SMTP_SSL(, 465, context=context) as server:\n",
    "    server.login(sender_email, password)\n",
    "    server.sendmail(\n",
    "        sender_email, receiver_email, message.as_string()\n",
    "    )"
   ]
  },
  {
   "cell_type": "code",
   "execution_count": 2,
   "metadata": {},
   "outputs": [],
   "source": [
    "message = \"\"\"\\\n",
    "Subject: Hi there\n",
    "\n",
    "This message is a test\"\"\""
   ]
  },
  {
   "cell_type": "code",
   "execution_count": 3,
   "metadata": {},
   "outputs": [],
   "source": [
    "# Create a secure SSL context\n",
    "context = ssl.create_default_context()\n",
    "\n",
    "with smtplib.SMTP_SSL(smtp_server, port, context=context) as server:\n",
    "    server.login(sender_email, password)\n",
    "    server.sendmail(sender_email, receiver_email, message)"
   ]
  },
  {
   "cell_type": "code",
   "execution_count": null,
   "metadata": {},
   "outputs": [],
   "source": []
  }
 ],
 "metadata": {
  "kernelspec": {
   "display_name": "Python 3",
   "language": "python",
   "name": "python3"
  },
  "language_info": {
   "codemirror_mode": {
    "name": "ipython",
    "version": 3
   },
   "file_extension": ".py",
   "mimetype": "text/x-python",
   "name": "python",
   "nbconvert_exporter": "python",
   "pygments_lexer": "ipython3",
   "version": "undefined.undefined.undefined"
  }
 },
 "nbformat": 4,
 "nbformat_minor": 2
}
