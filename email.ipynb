{
 "cells": [
  {
   "cell_type": "code",
   "execution_count": 2,
   "metadata": {},
   "outputs": [],
   "source": [
    "import smtplib, ssl\n",
    "import json\n",
    "import pandas as pd\n",
    "from template import html\n",
    "from template2 import textTemplate\n",
    "import time\n",
    "\n",
    "\n",
    "with open('../osvar/email.txt') as f:\n",
    "    a = f.read()\n",
    "email = json.loads(a)\n",
    "\n",
    "smtp_server = 'smtp.qiye.163.com'\n",
    "port = 465\n",
    "sender_email = email['name']\n",
    "#receiver_email = 'lzy2011@foxmail.com'\n",
    "password= email['code']\n",
    "\n",
    "from collections import Counter\n",
    "df = pd.read_excel('../osvar/hubspot-crm-exports-custom-view-2024-04-21.xlsx', index_col=0)\n",
    "\n",
    "\n"
   ]
  },
  {
   "cell_type": "code",
   "execution_count": 1,
   "metadata": {},
   "outputs": [],
   "source": []
  },
  {
   "cell_type": "code",
   "execution_count": 5,
   "metadata": {},
   "outputs": [],
   "source": [
    "logic_operation = [type(i)== float for i in df['sales person']] #Pick NA from sales person\n",
    "email_list = df[logic_operation][df[logic_operation]['Email Group'] == 3]['Email']"
   ]
  },
  {
   "cell_type": "code",
   "execution_count": 8,
   "metadata": {},
   "outputs": [
    {
     "data": {
      "text/plain": [
       "\" with open('Online peptides -- USA Domestic shipping, EU shipping.eml', 'r') as fhdl:\\n  html = fhdl.read() \""
      ]
     },
     "execution_count": 8,
     "metadata": {},
     "output_type": "execute_result"
    }
   ],
   "source": [
    "#Need to remove the header in the .eml file\n",
    "from email.mime.text import MIMEText\n",
    "from email.mime.multipart import MIMEMultipart\n",
    "from email.utils import make_msgid\n",
    "\n",
    "message = MIMEMultipart(\"alternative\")\n",
    "message[\"Subject\"] = \"multipart test\"\n",
    "message[\"From\"] = sender_email\n",
    "#message[\"To\"] = receiver_email\n",
    "\n",
    "\"\"\" with open('Online peptides -- USA Domestic shipping, EU shipping.eml', 'r') as fhdl:\n",
    "  html = fhdl.read() \"\"\""
   ]
  },
  {
   "cell_type": "code",
   "execution_count": 4,
   "metadata": {},
   "outputs": [],
   "source": [
    "\n"
   ]
  },
  {
   "cell_type": "code",
   "execution_count": 9,
   "metadata": {},
   "outputs": [
    {
     "name": "stdout",
     "output_type": "stream",
     "text": [
      "gear4gym@gmail.com\n",
      "infopeptidoscolombia@gmail.com\n",
      "careteam@americanresearch.net\n"
     ]
    }
   ],
   "source": [
    "for i in email_list[55:]:\n",
    "    print(i)\n",
    "    message = MIMEMultipart(\"alternative\")\n",
    "    message[\"Subject\"] = \"Online peptides -- direct shipping to USA.\"\n",
    "    message[\"From\"] = sender_email\n",
    "    message[\"To\"] = i\n",
    "    message['Message-ID'] = make_msgid()\n",
    "    receiver_email = i\n",
    "\n",
    "    part1 = MIMEText(textTemplate, \"text\")\n",
    "    message.attach(part1)\n",
    "    \n",
    "    context = ssl.create_default_context()\n",
    "    with smtplib.SMTP_SSL(smtp_server, port, context=context) as server:\n",
    "        server.login(sender_email, password)\n",
    "        server.sendmail(sender_email, receiver_email, message.as_string())\n",
    "        time.sleep(180)"
   ]
  },
  {
   "cell_type": "code",
   "execution_count": 10,
   "metadata": {},
   "outputs": [
    {
     "name": "stdout",
     "output_type": "stream",
     "text": [
      "gear4gym@gmail.com\n"
     ]
    },
    {
     "ename": "SMTPDataError",
     "evalue": "(550, b'5.7.0 DT:SPM .For more information, please visit https://feedback.qiye.163.com/static/feedback/#/bounce/ABFPV3JUfFd4WFxacUp8IgYGHjVseVVwO08WXUEiSAxYHRVb')",
     "output_type": "error",
     "traceback": [
      "\u001b[1;31m---------------------------------------------------------------------------\u001b[0m",
      "\u001b[1;31mSMTPDataError\u001b[0m                             Traceback (most recent call last)",
      "Cell \u001b[1;32mIn[10], line 16\u001b[0m\n\u001b[0;32m     14\u001b[0m \u001b[38;5;28;01mwith\u001b[39;00m smtplib\u001b[38;5;241m.\u001b[39mSMTP_SSL(smtp_server, port, context\u001b[38;5;241m=\u001b[39mcontext) \u001b[38;5;28;01mas\u001b[39;00m server:\n\u001b[0;32m     15\u001b[0m     server\u001b[38;5;241m.\u001b[39mlogin(sender_email, password)\n\u001b[1;32m---> 16\u001b[0m     \u001b[43mserver\u001b[49m\u001b[38;5;241;43m.\u001b[39;49m\u001b[43msendmail\u001b[49m\u001b[43m(\u001b[49m\u001b[43msender_email\u001b[49m\u001b[43m,\u001b[49m\u001b[43m \u001b[49m\u001b[43mreceiver_email\u001b[49m\u001b[43m,\u001b[49m\u001b[43m \u001b[49m\u001b[43mmessage\u001b[49m\u001b[38;5;241;43m.\u001b[39;49m\u001b[43mas_string\u001b[49m\u001b[43m(\u001b[49m\u001b[43m)\u001b[49m\u001b[43m)\u001b[49m\n\u001b[0;32m     17\u001b[0m     time\u001b[38;5;241m.\u001b[39msleep(\u001b[38;5;241m180\u001b[39m)\n",
      "File \u001b[1;32mc:\\Users\\Administrator\\miniconda3\\Lib\\smtplib.py:897\u001b[0m, in \u001b[0;36mSMTP.sendmail\u001b[1;34m(self, from_addr, to_addrs, msg, mail_options, rcpt_options)\u001b[0m\n\u001b[0;32m    895\u001b[0m     \u001b[38;5;28;01melse\u001b[39;00m:\n\u001b[0;32m    896\u001b[0m         \u001b[38;5;28mself\u001b[39m\u001b[38;5;241m.\u001b[39m_rset()\n\u001b[1;32m--> 897\u001b[0m     \u001b[38;5;28;01mraise\u001b[39;00m SMTPDataError(code, resp)\n\u001b[0;32m    898\u001b[0m \u001b[38;5;66;03m#if we got here then somebody got our mail\u001b[39;00m\n\u001b[0;32m    899\u001b[0m \u001b[38;5;28;01mreturn\u001b[39;00m senderrs\n",
      "\u001b[1;31mSMTPDataError\u001b[0m: (550, b'5.7.0 DT:SPM .For more information, please visit https://feedback.qiye.163.com/static/feedback/#/bounce/ABFPV3JUfFd4WFxacUp8IgYGHjVseVVwO08WXUEiSAxYHRVb')"
     ]
    }
   ],
   "source": [
    "for i in email_list[55:]:\n",
    "    print(i)\n",
    "    message = MIMEMultipart(\"alternative\")\n",
    "    message[\"Subject\"] = \"Online peptides -- direct shipping to USA.\"\n",
    "    message[\"From\"] = sender_email\n",
    "    message[\"To\"] = i\n",
    "    message['Message-ID'] = make_msgid()\n",
    "    receiver_email = i\n",
    "\n",
    "    part1 = MIMEText(html, \"html\")\n",
    "    message.attach(part1)\n",
    "    \n",
    "    context = ssl.create_default_context()\n",
    "    with smtplib.SMTP_SSL(smtp_server, port, context=context) as server:\n",
    "        server.login(sender_email, password)\n",
    "        server.sendmail(sender_email, receiver_email, message.as_string())\n",
    "        time.sleep(180)"
   ]
  },
  {
   "cell_type": "code",
   "execution_count": null,
   "metadata": {},
   "outputs": [],
   "source": []
  },
  {
   "cell_type": "code",
   "execution_count": 4,
   "metadata": {},
   "outputs": [],
   "source": [
    "part1 = MIMEText(html, \"html\")\n",
    "#part1 = MIMEText(text_str, \"text\")\n",
    "message.attach(part1)"
   ]
  },
  {
   "cell_type": "code",
   "execution_count": 5,
   "metadata": {},
   "outputs": [],
   "source": [
    "# Create secure connection with server and send email\n",
    "context = ssl.create_default_context()\n",
    "with smtplib.SMTP_SSL(smtp_server, port, context=context) as server:\n",
    "    server.login(sender_email, password)\n",
    "    server.sendmail(\n",
    "        sender_email, receiver_email, message.as_string()\n",
    "    )"
   ]
  },
  {
   "cell_type": "markdown",
   "metadata": {},
   "source": [
    "context = ssl.create_default_context()\n",
    "with smtplib.SMTP_SSL(, 465, context=context) as server:\n",
    "    server.login(sender_email, password)\n",
    "    server.sendmail(\n",
    "        sender_email, receiver_email, message.as_string()\n",
    "    )"
   ]
  },
  {
   "cell_type": "code",
   "execution_count": 2,
   "metadata": {},
   "outputs": [],
   "source": [
    "message = \"\"\"\\\n",
    "Subject: Hi there\n",
    "\n",
    "This message is a test\"\"\""
   ]
  },
  {
   "cell_type": "code",
   "execution_count": 3,
   "metadata": {},
   "outputs": [],
   "source": [
    "# Create a secure SSL context\n",
    "context = ssl.create_default_context()\n",
    "\n",
    "with smtplib.SMTP_SSL(smtp_server, port, context=context) as server:\n",
    "    server.login(sender_email, password)\n",
    "    server.sendmail(sender_email, receiver_email, message)"
   ]
  },
  {
   "cell_type": "code",
   "execution_count": null,
   "metadata": {},
   "outputs": [],
   "source": []
  }
 ],
 "metadata": {
  "kernelspec": {
   "display_name": "Python 3",
   "language": "python",
   "name": "python3"
  },
  "language_info": {
   "codemirror_mode": {
    "name": "ipython",
    "version": 3
   },
   "file_extension": ".py",
   "mimetype": "text/x-python",
   "name": "python",
   "nbconvert_exporter": "python",
   "pygments_lexer": "ipython3",
   "version": "3.12.1"
  }
 },
 "nbformat": 4,
 "nbformat_minor": 2
}
